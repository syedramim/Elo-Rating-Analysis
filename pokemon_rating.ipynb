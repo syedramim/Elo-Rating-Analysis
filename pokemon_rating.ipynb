{
 "cells": [
  {
   "cell_type": "markdown",
   "metadata": {},
   "source": [
    "# What is the best pokemon?"
   ]
  },
  {
   "cell_type": "markdown",
   "metadata": {},
   "source": [
    "importing necessary libraries"
   ]
  },
  {
   "cell_type": "code",
   "execution_count": 10,
   "metadata": {},
   "outputs": [],
   "source": [
    "import pandas as pd\n",
    "import requests\n",
    "import os"
   ]
  },
  {
   "cell_type": "markdown",
   "metadata": {},
   "source": [
    "parse_json takes a string url as input and then returns a dict with info of the specific pokemon from the API"
   ]
  },
  {
   "cell_type": "code",
   "execution_count": 11,
   "metadata": {},
   "outputs": [],
   "source": [
    "def parse_json(url):\n",
    "    response = requests.get(url)\n",
    "    content = response.json()\n",
    "    \n",
    "    name = content['name']\n",
    "    moveset = ', '.join([move['move']['name'] for move in content['moves']])\n",
    "    types = ', '.join([p_type['type']['name'] for p_type in content['types']])\n",
    "    stats = [stat['base_stat'] for stat in content['stats']]\n",
    "    \n",
    "    poke_info = {'NAME': name , 'TYPE': types, 'HP': stats[0], 'ATTACK': stats[1], 'DEFENSE': stats[2], \n",
    "                                'SPECIAL-ATTACK': stats[3], 'SPECIAL-DEFENSE': stats[4], 'SPEED': stats[5], \n",
    "                                'TOTAL': sum(stats), 'MOVESET': moveset}\n",
    "    \n",
    "    return poke_info"
   ]
  },
  {
   "cell_type": "markdown",
   "metadata": {},
   "source": [
    "run through every pokemon in the pokeDB API and then store them in a Dataframe called poke_df"
   ]
  },
  {
   "cell_type": "code",
   "execution_count": 12,
   "metadata": {},
   "outputs": [],
   "source": [
    "#done through this method to lessen time to debug and not constantly deal with timeout on API\n",
    "\n",
    "if not os.path.isfile('poke_db.xlsx'):\n",
    "    poke_df = pd.DataFrame(columns=['NAME', 'TYPE', 'HP', 'ATTACK', 'DEFENSE', \n",
    "                                'SPECIAL-ATTACK', 'SPECIAL-DEFENSE', 'SPEED', \n",
    "                                'TOTAL', 'MOVESET'])\n",
    "\n",
    "    poke_id = 1\n",
    "    poke_id_secondary = 10001\n",
    "    poke_iter = True\n",
    "\n",
    "    while True:\n",
    "        try:\n",
    "            pID = poke_id_secondary if poke_id > 1025 else poke_id\n",
    "            poke_df = pd.concat([poke_df, pd.DataFrame([parse_json(f'https://pokeapi.co/api/v2/pokemon/{pID}/')])], ignore_index=True)\n",
    "\n",
    "            if poke_id > 1025:\n",
    "                poke_id_secondary += 1\n",
    "            else:\n",
    "                poke_id += 1\n",
    "        except:\n",
    "            break\n",
    "    poke_df.to_excel('poke_db.xlsx')\n",
    "else:\n",
    "    poke_df = pd.read_excel('poke_db.xlsx')"
   ]
  },
  {
   "cell_type": "markdown",
   "metadata": {},
   "source": [
    "get the type advantages and input them into a dictionary and excel file to handle simulation of matches"
   ]
  },
  {
   "cell_type": "code",
   "execution_count": null,
   "metadata": {},
   "outputs": [],
   "source": []
  }
 ],
 "metadata": {
  "kernelspec": {
   "display_name": "Python 3",
   "language": "python",
   "name": "python3"
  },
  "language_info": {
   "codemirror_mode": {
    "name": "ipython",
    "version": 3
   },
   "file_extension": ".py",
   "mimetype": "text/x-python",
   "name": "python",
   "nbconvert_exporter": "python",
   "pygments_lexer": "ipython3",
   "version": "3.12.1"
  }
 },
 "nbformat": 4,
 "nbformat_minor": 2
}
